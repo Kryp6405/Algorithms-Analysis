{
 "cells": [
  {
   "cell_type": "markdown",
   "metadata": {},
   "source": [
    "<h1><b>Karatsuba's Multiplication</b></h1>"
   ]
  },
  {
   "cell_type": "markdown",
   "metadata": {},
   "source": [
    "Standard Version Time Complexity\n",
    "$$\n",
    "\n",
    "$$\n",
    "Two-Digit Multiplication: \n",
    "$\n",
    "\\left\\{\\begin{aligned}\n",
    "    AB &= (10A_1+A_0)(10B_1+B_0)\\\\\n",
    "    &= 100A_1B_1+10(A_1B_0 + A_0B_1)+A_0B_0\\\\\n",
    "    &= 100A_1B_1+10(A_1B_0 + A_0B_1 + A_0B_0 + A_1B_1 - A_0B_0 - A_1B_1)+A_0B_0\\\\\n",
    "    &= 100A_1B_1+10((A_1+A_0)B_0 + (A_1+A_0)B_1 - A_0B_0 - A_1B_1)+A_0B_0\\\\\n",
    "    &= 100A_1B_1+10((A_1+A_0)(B_0 + B_1) - A_0B_0 - A_1B_1)+A_0B_0\\\\\n",
    "    &= 100k_1+10(k_2-k_1-k_3)+k_3\\\\\n",
    "\\end{aligned}\\right.\n",
    "$\n",
    "$$\n",
    "\n",
    "$$\n",
    "Generalized Multiplication: \n",
    "$\n",
    "    AB = 10^nk_1+10^{n/2}(k_2-k_1-k_3)+k_3\\\\\n",
    "$\n",
    "$$\n",
    "\n",
    "$$\n",
    "Master Theorem: \n",
    "$\n",
    "\\left\\{\\begin{aligned}\n",
    "    T(n) &= 3T(n/2) + \\Theta(n) \\rightarrow\\\\\n",
    "    c=1 &\\text{ \\& } a=3, b=2, \\log_ba = \\log_23 > 1 \\rightarrow \\operatorname{Case}\\ 1\\\\\n",
    "    T(n) &= \\boxed{\\Theta(n^{\\lg 3})}\\\\\n",
    "\\end{aligned}\\right.\n",
    "$\n",
    "$$\n",
    "\n",
    "$$\n",
    "$\n",
    "\\begin{aligned}\n",
    "    \\text{Best Case: }&\\Omega(1)\\\\\n",
    "    \\text{Avg. Case: }&\\Theta(n^{\\lg3}) \\\\\n",
    "    \\text{Worst Case: }&O(n^{\\lg3}) \\\\\n",
    "\\end{aligned}\n",
    "$"
   ]
  },
  {
   "cell_type": "code",
   "execution_count": null,
   "metadata": {},
   "outputs": [],
   "source": [
    "import math\n",
    "\n",
    "def num_of_digits(x):\n",
    "    if x == 0:\n",
    "        return 1  \n",
    "    \n",
    "    count = 0\n",
    "    while x > 0:\n",
    "        count += 1\n",
    "        x //= 10\n",
    "    \n",
    "    return count\n",
    "\n",
    "def karatsuba(A, B):\n",
    "    if num_of_digits(A) <= 1 or num_of_digits(B) <= 1: # base case: A or B is a single digit\n",
    "        return A * B\n",
    "\n",
    "    n = max(num_of_digits(A), num_of_digits(B)) // 2 \n",
    "    split_point = 10 ** n\n",
    "    A1, A0 = A // split_point, A % split_point\n",
    "    B1, B0 = B // split_point, B % split_point\n",
    "\n",
    "    k1 = karatsuba(A1, B1) # runs in T(n/2)\n",
    "    k2 = karatsuba(A1 + A0, B1 + B0) # runs in T(n/2)\n",
    "    k3 = karatsuba(A0, B0) # runs in T(n/2)\n",
    "\n",
    "    return (10 ** (2 * n) * k1) + (10 ** n * (k2 - k1 - k3)) + (k3) # decimal shifts and addition runs in O(n)"
   ]
  },
  {
   "cell_type": "markdown",
   "metadata": {},
   "source": [
    "<p>For this topic, know all the basics. Understand the underlying equation and why it is the way it\n",
    "is. Understand what problem we’re trying to solve, etc.</p>\n",
    "<ul>\n",
    "    <li>The algorithim proposes a mroe efficient way of doing integer multiplication problem through a divide and conquer approach.\n",
    "    <li>By rewriting the second multiplication term using two values we already know, we reduce a set of extra multiplications, hence the recursive approach.\n",
    "</ul>"
   ]
  },
  {
   "cell_type": "code",
   "execution_count": null,
   "metadata": {},
   "outputs": [],
   "source": []
  }
 ],
 "metadata": {
  "language_info": {
   "name": "python"
  }
 },
 "nbformat": 4,
 "nbformat_minor": 2
}

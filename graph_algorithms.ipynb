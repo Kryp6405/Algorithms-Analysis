{
 "cells": [
  {
   "cell_type": "markdown",
   "metadata": {},
   "source": [
    "# **Graphs**"
   ]
  },
  {
   "cell_type": "markdown",
   "metadata": {},
   "source": [
    "> ## Breadth-First Search\n",
    "### Adjacency List Version Time Complexity"
   ]
  },
  {
   "cell_type": "markdown",
   "metadata": {},
   "source": [
    "$\n",
    "\\left.\\begin{aligned}\n",
    "    &\\text{Inititalization: } O(V) \\text{ or } \\Theta(1) \\rightarrow \\text{ (Based on structure used)}\\\\\n",
    "    &\\text{Enque \\& Deque: } V\\Theta(1) = \\Theta(V) \\rightarrow \\text{ (Enque vertex V or more times \\& Deque vertex exactly once)}\\\\\n",
    "    &\\text{For Loop Traversal: }\\Theta(2E)=\\Theta(E) \\rightarrow \\text{ (Since each V can be on start of edge or end of edge)}\\\\\n",
    "\\end{aligned}\\right\\}\n",
    "\\rightarrow \n",
    "\\left\\{\\begin{aligned}\n",
    "    T_{\\text{worst}}(n) &= O(V) + \\Theta(V) + \\Theta(E) = \\boxed{O(V+E)}\\\\\n",
    "    T_{\\text{best}}(n) &= \\Theta(1) + \\Theta(V) + \\Theta(E) = \\boxed{\\Theta(V+E)}\n",
    "\\end{aligned}\\right.\n",
    "$"
   ]
  },
  {
   "cell_type": "markdown",
   "metadata": {},
   "source": [
    "### Adjacency Matrix Version Time Complexity"
   ]
  },
  {
   "cell_type": "markdown",
   "metadata": {},
   "source": [
    "$\n",
    "\\left.\\begin{aligned}\n",
    "    &\\text{Inititalization: } O(V) \\text{ or } \\Theta(1) \\rightarrow \\text{ (Based on structure used)}\\\\\n",
    "    &\\text{Enque \\& Deque: } V\\Theta(1) = \\Theta(V) \\rightarrow \\text{ (Enque vertex V or more times \\& Deque vertex exactly once)}\\\\\n",
    "    &\\text{For Loop Traversal: } \\Theta(V) \\rightarrow \\text{ (Since each V can be on start of edge or end of edge)}\\\\\n",
    "\\end{aligned}\\right\\}\n",
    "\\rightarrow \n",
    "\\left\\{\\begin{aligned}\n",
    "    T_{\\text{worst}}(n) &= O(V) + \\Theta(V^2) = \\boxed{O(V^2)}\\\\\n",
    "    T_{\\text{best}}(n) &= \\Theta(1) + \\Theta(V^2) = \\boxed{\\Theta(V^2)}\n",
    "\\end{aligned}\\right.\n",
    "$"
   ]
  },
  {
   "cell_type": "code",
   "execution_count": 9,
   "metadata": {},
   "outputs": [],
   "source": [
    "def bfs(G, s):\n",
    "    QUEUE = [s]\n",
    "    VISITED = [False] * len(G) \n",
    "    VISITED[s] = True\n",
    "    VORDER = [s]\n",
    "\n",
    "    while len(QUEUE) > 0: \n",
    "        x = QUEUE.pop(0)\n",
    "        for v in G[x]: \n",
    "            if not VISITED[v]:\n",
    "                QUEUE.append(v)\n",
    "                VISITED[v] = True\n",
    "                VORDER.append(v)\n",
    "            \n",
    "    return VORDER           "
   ]
  },
  {
   "cell_type": "markdown",
   "metadata": {},
   "source": [
    "> ## Depth-First Search (Recursive)\n",
    "### Adjacency List Version Time Complexity"
   ]
  },
  {
   "cell_type": "markdown",
   "metadata": {},
   "source": [
    "$\n",
    "\\left.\\begin{aligned}\n",
    "    &\\text{Inititalization: } O(V) \\text{ or } \\Theta(1) \\rightarrow \\text{ (Based on structure used)}\\\\\n",
    "    &\\text{Enque \\& Deque: } V\\Theta(1) = \\Theta(V) \\rightarrow \\text{ (Process each vertex exactly once)}\\\\\n",
    "    &\\text{For Loop Traversal: }\\Theta(2E)=\\Theta(E) \\rightarrow \\text{ (Since each V can be on start of edge or end of edge)}\\\\\n",
    "\\end{aligned}\\right\\}\n",
    "\\rightarrow \n",
    "\\left\\{\\begin{aligned}\n",
    "    T_{\\text{worst}}(n) &= O(V) + \\Theta(V) + \\Theta(E) = \\boxed{O(V+E)}\\\\\n",
    "    T_{\\text{best}}(n) &= \\Theta(1) + \\Theta(V) + \\Theta(E) = \\boxed{\\Theta(V+E)}\n",
    "\\end{aligned}\\right.\n",
    "$"
   ]
  },
  {
   "cell_type": "markdown",
   "metadata": {},
   "source": [
    "### Adjacency Matrix Version Time Complexity"
   ]
  },
  {
   "cell_type": "markdown",
   "metadata": {},
   "source": [
    "$\n",
    "\\left.\\begin{aligned}\n",
    "    &\\text{Inititalization: } O(V) \\text{ or } \\Theta(1) \\rightarrow \\text{ (Based on structure used)}\\\\\n",
    "    &\\text{Enque \\& Deque: } V\\Theta(1) = \\Theta(V) \\rightarrow \\text{ (Process each vertex exactly once)}\\\\\n",
    "    &\\text{For Loop Traversal: } \\Theta(V) \\rightarrow \\text{ (Since each V can be on start of edge or end of edge)}\\\\\n",
    "\\end{aligned}\\right\\}\n",
    "\\rightarrow \n",
    "\\left\\{\\begin{aligned}\n",
    "    T_{\\text{worst}}(n) &= O(V) + \\Theta(V^2) = \\boxed{O(V^2)}\\\\\n",
    "    T_{\\text{best}}(n) &= \\Theta(1) + \\Theta(V^2) = \\boxed{\\Theta(V^2)}\n",
    "\\end{aligned}\\right.\n",
    "$"
   ]
  },
  {
   "cell_type": "code",
   "execution_count": 23,
   "metadata": {},
   "outputs": [],
   "source": [
    "def dfs_recursive(G, s):\n",
    "    VORDER = []\n",
    "    VISITED = [False] * len(G)\n",
    "\n",
    "    def aux(x):\n",
    "        VORDER.append(x)\n",
    "        VISITED[x] = True\n",
    "        for v in G[x]:\n",
    "            if not VISITED[v]:\n",
    "                aux(v)\n",
    "    \n",
    "    aux(s)\n",
    "    return VORDER"
   ]
  },
  {
   "cell_type": "markdown",
   "metadata": {},
   "source": [
    "> ## Depth-First Search (Stack)\n",
    "### Adjacency List Version Time Complexity\n",
    "$$\n",
    "\n",
    "$$\n",
    "$\n",
    "\\left.\\begin{aligned}\n",
    "    &\\text{Inititalization: } O(V) \\text{ or } \\Theta(1) \\rightarrow \\text{ (Based on structure used)}\\\\\n",
    "    &\\text{Processing Vertices: } V\\Theta(1) = \\Theta(V^2) \\rightarrow \\text{ (Process start vertex once, but (V-1) vertices are processed V times)}\\\\\n",
    "    &\\text{For Loop Traversal: }\\Theta(2E)=\\Theta(E) \\rightarrow \\text{ (Since each V can be on start of edge or end of edge)}\\\\\n",
    "\\end{aligned}\\right\\}\n",
    "\\rightarrow \n",
    "\\left\\{\\begin{aligned}\n",
    "    T_{\\text{worst}}(n) &= O(V) + \\Theta(V) + \\Theta(E) = \\boxed{O(V^2+E)}\\\\\n",
    "    T_{\\text{best}}(n) &= \\Theta(1) + \\Theta(V) + \\Theta(E) = \\boxed{\\Theta(V^2+E)}\n",
    "\\end{aligned}\\right.\n",
    "$\n",
    "$$\n",
    "\n",
    "$$"
   ]
  },
  {
   "cell_type": "code",
   "execution_count": 26,
   "metadata": {},
   "outputs": [],
   "source": [
    "def dfs_stack(G, s):\n",
    "    STACK = [s]\n",
    "    VISITED = [False] * len(G)\n",
    "    VORDER = []\n",
    "\n",
    "    while len(STACK) > 0:\n",
    "        x = STACK.pop()\n",
    "\n",
    "        if not VISITED[x]:\n",
    "            VORDER.append(x)\n",
    "            VISITED[x] = True\n",
    "        \n",
    "        for v in G[x]:\n",
    "            if not VISITED[v]:\n",
    "                STACK.append(v)\n",
    "\n",
    "    return VORDER\n"
   ]
  },
  {
   "cell_type": "markdown",
   "metadata": {},
   "source": [
    "Assume for BFS, DFS, and Dijsktra’s that we are using the single source, single sync versions of\n",
    "the algorithm.\n",
    "1. Do BFS and DFS always find a unique path?\n",
    "    -  No. If there are multiple paths of the same length from the source to the destination, BFS/DFS may explore them in different orders, resulting in different paths being discovered.\n",
    "2. What are the strengths and weaknesses of each search.\n",
    "    - DFS Advantage: \n",
    "        - Memory-efficient, only requiring storage for the current path and backtracking information.\n",
    "        - Efficient when traversing or searching deep paths in a graph, especially for problems like topological sorting and detecting cycling.\n",
    "        - Well-suited for graphs with deep levels or directed acyclic graphs (DAGs), making it useful for problems like maze-solving or identifying strongly connected components.\n",
    "    - DFS Disadvantage:\n",
    "        - Does not guarentee shortest path, may find longer paths first.\n",
    "    - BFS Advantage:\n",
    "        - Performs well on graphs with many branching levels, such as trees and social networks.\n",
    "        - Efficient when searching for the shortest path or finding the nearest neighbors. It guarantees to find the shortest path in an unweighted graph.\n",
    "        - Guarantees to find the shortest path.\n",
    "    - BFS Disdvantage\n",
    "        - Utilizes more memory as it stores the entire graph structure during traversal.\n",
    "3. What datastructure does each use, and how does that a↵ect their behavior?\n",
    "    - BFS = Queue $\\rightarrow$ Level-Order Traversal\n",
    "        - The queue enforces a level-by-level exploration. Vertices are added to the back of the queue when encountered, and the algorithm processes them from the front.\n",
    "        - This ensures that all neighbors of a vertex are explored before moving to the next level.\n",
    "        - BFS prioritizes finding the shortest path in terms of the number of edges (not necessarily weight) due to its level-by-level exploration.\n",
    "    - DFS = Stack $\\rightarrow$ Pre-Order Traversal\n",
    "        - The stack enforces a subtree-first exploration. Vertices are pushed onto the stack when encountered, and the algorithm explores the most recently added vertex's neighbors first.\n",
    "        - This can lead to exploring one path deeply until a dead end is reached, potentially missing other paths at lower depths (closer to root).\n",
    "        - DFS prioritizes exploring all possibilities along a single path before backtracking and exploring alternatives.\n",
    "    - BFS/DFS: If multiple paths with the same depth exist between two nodes, BFS/DFS might find any of them depending on the order it encounters them."
   ]
  },
  {
   "cell_type": "markdown",
   "metadata": {},
   "source": [
    "> ## Dijkstra's Algorithm\n",
    "### Standard Version Time Complexity\n"
   ]
  },
  {
   "cell_type": "code",
   "execution_count": null,
   "metadata": {},
   "outputs": [],
   "source": []
  },
  {
   "cell_type": "markdown",
   "metadata": {},
   "source": [
    "As stated before, this will be single-source-single-sync.\n",
    "1. Do negative weights always result in Dijkstra’s getting a shortest path? If there are negative weights in the graph, can you ever be sure you got a shortest path?\n",
    "    - If there are negative weights presenet, it is not guaranteed that you have the shortest path possible.\n",
    "        - Example 1 (Negative Weighted Graph, Dijkstra Works): \n",
    "        ``` mermaid\n",
    "                B\n",
    "               /| \n",
    "             10 |\n",
    "             /  |\n",
    "            A   -3\n",
    "             \\  |\n",
    "              5 |\n",
    "               \\|\n",
    "                C\n",
    "        ```\n",
    "        - Example 2 (Negative Weighted Graph, Dijkstra Doesn't Work): \n",
    "        ``` mermaid\n",
    "                B\n",
    "               /| \n",
    "             10 |\n",
    "             /  |\n",
    "            A   -8\n",
    "             \\  |\n",
    "              5 |\n",
    "               \\|\n",
    "                C\n",
    "        ```\n",
    "2. Does Dijkstra’s work on unweighted graphs?\n",
    "    - Yes, it will work like BFS if all weights are all 1 or the same (aka unweighted)."
   ]
  },
  {
   "cell_type": "markdown",
   "metadata": {},
   "source": [
    "> ## Floyd's Algorithm"
   ]
  },
  {
   "cell_type": "markdown",
   "metadata": {},
   "source": [
    "Understand how it works, why its di↵erent than using Dijkstra’s, etc. Be able to do passes of Floyd’s algorithm.\n",
    "1. How does Floyd’s compare to using the single-source all syncs version of Dijkstra’s over every single node?\n",
    "2.  What is Flyod’s trying to accomplish?\n",
    "3. Does Floyd’s work with negative edge weights?\n",
    "4. How many passes will you have to do through the array before Floyd’s terminates?"
   ]
  },
  {
   "cell_type": "markdown",
   "metadata": {},
   "source": []
  }
 ],
 "metadata": {
  "kernelspec": {
   "display_name": "Python 3",
   "language": "python",
   "name": "python3"
  },
  "language_info": {
   "codemirror_mode": {
    "name": "ipython",
    "version": 3
   },
   "file_extension": ".py",
   "mimetype": "text/x-python",
   "name": "python",
   "nbconvert_exporter": "python",
   "pygments_lexer": "ipython3",
   "version": "3.12.1"
  }
 },
 "nbformat": 4,
 "nbformat_minor": 2
}

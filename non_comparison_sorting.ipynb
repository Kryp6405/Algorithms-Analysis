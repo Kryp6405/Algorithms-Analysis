{
 "cells": [
  {
   "cell_type": "markdown",
   "metadata": {},
   "source": [
    "<h1><b>Counting Sort</b></h1>"
   ]
  },
  {
   "cell_type": "markdown",
   "metadata": {},
   "source": [
    "Standard Version Time Complexity\n",
    "$$\n",
    "\n",
    "$$\n",
    "$\n",
    "\\begin{aligned}\n",
    "    \\text{Best Case: }&\\Omega(n+k)\\\\\n",
    "    \\text{Avg. Case: }&\\Theta(n+k)\\\\\n",
    "    \\text{Worst Case: }&O(n+k)\\\\\n",
    "\\end{aligned}\n",
    "$"
   ]
  },
  {
   "cell_type": "code",
   "execution_count": 6,
   "metadata": {},
   "outputs": [],
   "source": [
    "\"\"\" \n",
    "Stable: Yes. We are counting left to right , and place them back in order right to left in desceding indecies.\n",
    "[...,3,...,3',...,3'',...] -> [...,_,_,3'',...] -> [...,_,3',3'',...] -> [...,3,3',3'',...]\n",
    "\"\"\"\n",
    "\n",
    "def counting_sort(A):\n",
    "    POS = [0] * (max(A)+1) # size k, largest element in A\n",
    "    ANEW = [0] * len(A) # size n, length of A\n",
    "\n",
    "    for i in range(0, len(A)): # runs n times\n",
    "        POS[A[i]] += 1\n",
    "    \n",
    "    for i in range(1, len(POS)): # runs k times\n",
    "        POS[i] += POS[i-1]\n",
    "\n",
    "    for i in range(0, len(A)): # runs n times\n",
    "        ANEW[POS[A[i]]-1] = A[i]\n",
    "        POS[A[i]] -= 1\n",
    "\n",
    "    for i in range(0, len(A)): # runs n times\n",
    "        A[i] = ANEW[i]\n",
    "\n",
    "    return A"
   ]
  },
  {
   "cell_type": "markdown",
   "metadata": {},
   "source": [
    "<p>Counting sort had multiple sub-sections. If you encounter it again, the first pass step where numbers\n",
    "are counted will be called the counting array, and the second step will be called the cumulative\n",
    "array. You should know the runtime, and why it’s Θ(n + k)</p>\n",
    "<ol>\n",
    "    <li>What are the weaknesses of counting sort? When should you not use it?\n",
    "    <ul>\n",
    "        <li>Counting sort, by itself/one iteration, doesn’t work on decimal values.\n",
    "        <li>Counting sort is inefficient if the range of values to be sorted is very large.\n",
    "        <li>Counting sort uses extra space for sorting the array elements (not in-place).\n",
    "    </ul>\n",
    "    <li>Why do decrement each value in the cumulative array by one?\n",
    "    <ul>\n",
    "        <li>To make sure the next time the element is placed in A, we put it one index below, in order.\n",
    "    </ul>\n",
    "    <li>What does the cumulative array represent?\n",
    "    <ul>\n",
    "        <li>Index of cum. array = Value in A, Value - 1 of cum. = Index of A\n",
    "    </ul>\n",
    "</ol>"
   ]
  },
  {
   "cell_type": "markdown",
   "metadata": {},
   "source": [
    "<h1><b>Radix Sort</b</h1>"
   ]
  },
  {
   "cell_type": "markdown",
   "metadata": {},
   "source": [
    "Standard Version Time Complexity\n",
    "$$\n",
    "\n",
    "$$\n",
    "$\n",
    "\\begin{aligned}\n",
    "    f:\\ &T_{\\text{underlying}}(n)\\\\\n",
    "    \\text{Best Case: }&\\Omega(df)\\\\\n",
    "    \\text{Avg. Case: }&\\Theta(df)\\\\\n",
    "    \\text{Worst Case: }&O(df)\\\\\n",
    "\\end{aligned}\n",
    "$\n",
    "$$\n",
    "\n",
    "$$\n",
    "Counting Inner Sort: \n",
    "$\n",
    "\\left\\{\\begin{aligned}\n",
    "    \\text{Best Case: }&\\Omega(d(n+(b-1)))\\\\\n",
    "    \\text{Avg. Case: }&\\Theta(d(n+(b-1)))\\\\\n",
    "    \\text{Worst Case: }&O(d(n+(b-1)))\\\\\n",
    "\\end{aligned}\\right.\n",
    "$\n",
    "$$\n",
    "\n",
    "$$\n",
    "Recursive CBA Sort: \n",
    "$\n",
    "\\left\\{\\begin{aligned}\n",
    "    \\text{Best Case: }&\\Omega(dn\\lg n)\\\\\n",
    "    \\text{Avg. Case: }&\\Theta(dn\\lg n)\\\\\n",
    "    \\text{Worst Case: }&O_{\\text{merge}}(dn\\lg n)\\ \\& \\ O_{\\text{quick}}(dn^2)\\\\\n",
    "\\end{aligned}\\right.\n",
    "$\n",
    "$$\n",
    "\n",
    "$$\n",
    "Iterative CBA Sort: \n",
    "$\n",
    "\\left\\{\\begin{aligned}\n",
    "    \\text{Best Case: }&\\Omega_{\\text{bubble || insertion}}(dn) \\ \\& \\ \\Omega_{\\text{selection}}(dn^2)\\\\\n",
    "    \\text{Avg. Case: }&\\Theta(dn^2)\\\\\n",
    "    \\text{Worst Case: }&O(dn^2)\\\\\n",
    "\\end{aligned}\\right.\n",
    "$"
   ]
  },
  {
   "cell_type": "code",
   "execution_count": 7,
   "metadata": {},
   "outputs": [],
   "source": [
    "def radix_sort(A, sort):\n",
    "    maxval = max (A)\n",
    "    d = 1\n",
    "    while d < maxval:\n",
    "        sort(A, d)\n",
    "        d = 10*d"
   ]
  },
  {
   "cell_type": "markdown",
   "metadata": {},
   "source": [
    "<p>Understand how radix sort interacts with the underlying sort, the number of digits, and the base\n",
    "of the numbers its sorting.</p>\n",
    "<ol>\n",
    "    <li>Why does radix sort start with the rightmost digit?\n",
    "    <ul>\n",
    "        <li>Least-Significant Digit (LSD) implementations are usaully stable relative to Most-Significant Digit (MSD) implementations.\n",
    "        <li>Memory Efficient since LSD works right to left, where the index of the left most digit may vary (ex. [AB, ABC, A] -> [2, 3, 1]), so starting rightmost index guarantees efficency when increasing decimal places.\n",
    "    </ul>\n",
    "    <li>Does the underlying sort for radix matter, and if so, how?\n",
    "    <ul>\n",
    "        <li>Yes, in terms of complexity, stability, size.\n",
    "        <li>Complexity: All radix sorts are O(df), but f is the time of the underlying sort so varying this varies radix sort time. If the underlying sort is small range of small numbers then counting sort is more efficient than using CBA sorts.\n",
    "        <li>Stability: If the underlying sort is stable, the radix sort will be stable too.\n",
    "        <li>Size: If the underlying sort is in-place, less space is used and is more efficient for larger datasets.\n",
    "    </ul>\n",
    "    <li>How does the base and length of digits affect the worst, best, and average case?\n",
    "    <ul>\n",
    "        <li>More digits (d approaches N) -> More time (O(d) -> O(N)) : More radix loop iterations\n",
    "        <li>Larger base (b approaches N) -> More time (O(b) -> O(N)) : More underlying sort iterations\n",
    "    </ul>\n",
    "    <li>Is it always better to sort binary numbers with radix sort, so the underyling sort has less work to do?\n",
    "    <ul>\n",
    "        <li>If list is already sorted, something like Bubble/Insertion sort is better and doesnt have to check each decimal place despite having a base 2.\n",
    "    </ul>\n",
    "</ol>"
   ]
  },
  {
   "cell_type": "markdown",
   "metadata": {},
   "source": [
    "<h1><b>Bucket Sort</b></h1>"
   ]
  },
  {
   "cell_type": "markdown",
   "metadata": {},
   "source": [
    "Standard Version Time Complexity\n",
    "$$\n",
    "\n",
    "$$\n",
    "$\n",
    "\\begin{aligned}\n",
    "    \\text{Best Case: }&\\Omega(n) \\rightarrow\\text{ (Uniform Distribution = 1 elem. per bucket)}\\\\\n",
    "    \\text{Avg. Case: }&\\Theta(n) \\rightarrow\\text{ (At most 4 elem. per bucket = O(1) underlying sort)}\\\\\n",
    "    \\text{Worst Case: }&O(O_{underlying}(f(n))) \\rightarrow\\text{ (All elem. in 1 bucket = Worst case of underlying sort with time f(n))}\\\\\n",
    "\\end{aligned}\n",
    "$"
   ]
  },
  {
   "cell_type": "code",
   "execution_count": 8,
   "metadata": {},
   "outputs": [],
   "source": [
    "import math\n",
    "\n",
    "def bucket_sort(A, sort):\n",
    "    buckets = [[] for _ in range(0,len(A))]\n",
    "    ANEW = []\n",
    "\n",
    "    for i in range(0, len(A)): # runs n times\n",
    "        buckets[math.floor(len(A) * A[i] / (max(A) + 1))].append(A[i])\n",
    "    for b in buckets: # runs n * underlying sort (O(1) best & avg case OR O(f) worst case)\n",
    "        sort(b)\n",
    "    for b in buckets: # runs n times\n",
    "        ANEW.extend(b)\n",
    "    for i in range(0, len(ANEW)): # runs n times\n",
    "        A[i] = ANEW[i]\n",
    "\n",
    "    return A"
   ]
  },
  {
   "cell_type": "markdown",
   "metadata": {},
   "source": [
    "<p>Bucket sort has a number of interesting properties. Know how the buckets are chosen and why. Know how many buckets are typically used, and how the input distribution effects the sort.</p>\n",
    "<ul>\n",
    "    <li>Suppose list <b>A</b> of length <b>n</b>. <u># of buckets</u> = <b>n</b> & <u>range per bucket</u> = <b>floor[max(A)/n]</b> \n",
    "</ul>\n",
    "<ol>\n",
    "    <li>How does the choice of underlying sort effect the runtime of the sort?\n",
    "    <ul>\n",
    "        <li>A <u>simpler sort</u> like <i>insertion sort</i> is generally faster for <u>small buckets</u>. It has a lower time complexity (O(n^2) in the worst case, but often performs much better in practice for nearly-sorted lists like those within buckets).\n",
    "        <li>A more <u>complex sort</u> like <i>merge sort</i> might be more efficient for <u>larger buckets</u> due to its average case time complexity of O(n log n).\n",
    "    </ul>\n",
    "    <li>Depending on the distribution of inputs, how might you adjust the buckets?\n",
    "    <ul>\n",
    "        <li>If the data has a uniform distribution, then using equal-sized buckets for each digit pass is optimal. This ensures all elements have a similar chance of ending up in different buckets, leading to efficient sorting.\n",
    "        <li>When the data is skewed, using equal-sized buckets can become inefficient. Many elements might end up in the same buckets, increasing the workload for the underlying sort within each pass (e.g., counting sort might need to handle a large number of elements in a single bucket).\n",
    "        <li>One approach dynamically adjusts bucket sizes based on the observed distribution of digits in each pass. For example, you could allocate more buckets for digits with a higher frequency and fewer buckets for less frequent digits. This balances the workload within each pass.\n",
    "    </ul>\n",
    "    <li>Can you use bucket sort as your secondary sort?\n",
    "    <ul>\n",
    "        <li>Yes, whether its radix or bucket sort itself, calling an underlying bucket sort is fine especially if the data set is uniform (best case).\n",
    "    </ul>\n",
    "    <li>When is bucket sort unstable?\n",
    "    <ul>\n",
    "        <li>If the underlying sort is unstable, then bucket sort is also unstable.\n",
    "    </ul>\n",
    "    <li>What change could you make to double the average number of items per bucket, and what effect would it have?\n",
    "    <ul>\n",
    "        <li>???\n",
    "    </ul>\n",
    "</ol>"
   ]
  }
 ],
 "metadata": {
  "kernelspec": {
   "display_name": "Python 3",
   "language": "python",
   "name": "python3"
  },
  "language_info": {
   "codemirror_mode": {
    "name": "ipython",
    "version": 3
   },
   "file_extension": ".py",
   "mimetype": "text/x-python",
   "name": "python",
   "nbconvert_exporter": "python",
   "pygments_lexer": "ipython3",
   "version": "3.12.1"
  }
 },
 "nbformat": 4,
 "nbformat_minor": 2
}
